{
 "cells": [
  {
   "cell_type": "code",
   "execution_count": null,
   "metadata": {},
   "outputs": [],
   "source": [
    "def check (a,b):\n",
    "\n",
    "    if a%2!=0 or b%2!=0 :\n",
    "        if b<a:\n",
    "            print(a)\n",
    "        else:\n",
    "            print(b)\n",
    "        \n",
    "        \n",
    "    if a%2==0 and b%2==0:\n",
    "        if b<a:\n",
    "            print(b)\n",
    "        else:\n",
    "            print(a)\n",
    "    else:\n",
    "        if b<a:\n",
    "            print(a)\n",
    "        else:\n",
    "            print(b)\n",
    "\n",
    "check(7,4)"
   ]
  },
  {
   "cell_type": "code",
   "execution_count": null,
   "metadata": {},
   "outputs": [],
   "source": [
    "def two_string ():\n",
    "    print(\"enter 2 strings start with the same letter t ckeck\")\n",
    "    a=input(\"enter the first word: \")\n",
    "    b=input(\"enter the 2nd word: \")\n",
    "    print(\"the firt letter is: \",a[0])\n",
    "    print(\"the firt letter is: \",b[0])\n",
    "    if a[0]==b[0]:\n",
    "        print(\"True\")\n",
    "    else:\n",
    "        print(\"False\")\n",
    "two_string()"
   ]
  },
  {
   "cell_type": "code",
   "execution_count": null,
   "metadata": {},
   "outputs": [],
   "source": [
    "def two_integers():\n",
    "    a=int(input(\"enter the first number: \"))\n",
    "    b=int(input(\"enter the second number: \"))\n",
    "    if a+b==20:\n",
    "        print(\"True\")\n",
    "    elif a==20 or b==20:\n",
    "        print(\"True\")\n",
    "    else:\n",
    "        print(\"False\")\n",
    "two_integers()"
   ]
  },
  {
   "cell_type": "code",
   "execution_count": null,
   "metadata": {},
   "outputs": [],
   "source": [
    "def capital_letter():\n",
    "    lst=[]\n",
    "    a=input(\"ente a word: \")\n",
    "    for i in a:\n",
    "        x=lst.append(i)\n",
    "    del lst[0]\n",
    "    del lst[3]\n",
    "    lst.insert (0,a[0].capitalize())\n",
    "    lst.insert (3,a[3].capitalize())\n",
    "    strg=\"\"\n",
    "    for i in lst:\n",
    "        strg=strg+i\n",
    "    print(strg)\n",
    "capital_letter()"
   ]
  },
  {
   "cell_type": "code",
   "execution_count": null,
   "metadata": {},
   "outputs": [],
   "source": [
    "def reversing ():\n",
    "    words=\"i love you\"\n",
    "    words = words.split(' ')\n",
    "    reverse=\" \".join(reversed(words))\n",
    "    print(reverse)\n",
    "\n",
    "reversing () "
   ]
  },
  {
   "cell_type": "code",
   "execution_count": null,
   "metadata": {},
   "outputs": [],
   "source": [
    "def almost_there ():\n",
    "    if n in range (89,111) or n in range (189,211) or n in range(0,11):\n",
    "        print(\"True\")\n",
    "    else:\n",
    "        print(\"False\")"
   ]
  },
  {
   "cell_type": "code",
   "execution_count": null,
   "metadata": {},
   "outputs": [],
   "source": [
    "def contain ():\n",
    "    lst=[1,3,3,4,5,6]\n",
    "    for i in lst:\n",
    "        if lst[i]==3 and lst[i+1]==3:\n",
    "            print(\"True\")\n",
    "            break\n",
    "        else:\n",
    "            print(\"False\")\n",
    "            break\n",
    "contain () "
   ]
  },
  {
   "cell_type": "code",
   "execution_count": null,
   "metadata": {},
   "outputs": [],
   "source": [
    "def repeat ():\n",
    "    x=\"hello\"\n",
    "    st=\"\"\n",
    "    for i in x:\n",
    "        st=st+i*3\n",
    "    print(st)\n",
    "repeat ()"
   ]
  },
  {
   "cell_type": "code",
   "execution_count": null,
   "metadata": {},
   "outputs": [],
   "source": [
    "def test ():\n",
    "    print(\"enter 3 numbers between 1:11 \")\n",
    "    a=int(input(\"enter the first num:\"))\n",
    "    b=int(input(\"enter the 2nd num:\"))\n",
    "    c=int(input(\"enter the 3d num:\"))\n",
    "    e=a+b+c\n",
    "    if e <=21:\n",
    "        print(e)\n",
    "    if e >21 and (a==11 or b==11 or c==11):\n",
    "        x=e-10\n",
    "        print(x)\n",
    "        if x>21:\n",
    "            print(\"BUST\")\n",
    "test ()"
   ]
  },
  {
   "cell_type": "code",
   "execution_count": null,
   "metadata": {},
   "outputs": [],
   "source": [
    "lst=[1,2,3,6,9,7,3,6,9,8,4]\n",
    "summ=0\n",
    "for i in lst:\n",
    "    summ=summ+i\n",
    "print(summ)"
   ]
  },
  {
   "cell_type": "code",
   "execution_count": 1,
   "metadata": {},
   "outputs": [
    {
     "ename": "IndentationError",
     "evalue": "expected an indented block (<ipython-input-1-11a74fad4d1f>, line 2)",
     "output_type": "error",
     "traceback": [
      "\u001b[1;36m  File \u001b[1;32m\"<ipython-input-1-11a74fad4d1f>\"\u001b[1;36m, line \u001b[1;32m2\u001b[0m\n\u001b[1;33m    n=int(input(\"entr the number: \"))\u001b[0m\n\u001b[1;37m    ^\u001b[0m\n\u001b[1;31mIndentationError\u001b[0m\u001b[1;31m:\u001b[0m expected an indented block\n"
     ]
    }
   ],
   "source": [
    "def prime():\n",
    "n=int(input(\"entr the number: \"))\n",
    "c=1\n",
    "if n >1:\n",
    "\n",
    "    for i in range(2,n+1):\n",
    "        if (c%i==0):\n",
    "            print(c,\"not a prime\")\n",
    "            \n",
    "        else:\n",
    "            print(c,\"prime\")\n",
    "        c=c+1\n",
    "\n",
    "prime()\n",
    "#i don't understand what is the wrog with this code"
   ]
  },
  {
   "cell_type": "code",
   "execution_count": null,
   "metadata": {},
   "outputs": [],
   "source": []
  }
 ],
 "metadata": {
  "kernelspec": {
   "display_name": "Python 3",
   "language": "python",
   "name": "python3"
  },
  "language_info": {
   "codemirror_mode": {
    "name": "ipython",
    "version": 3
   },
   "file_extension": ".py",
   "mimetype": "text/x-python",
   "name": "python",
   "nbconvert_exporter": "python",
   "pygments_lexer": "ipython3",
   "version": "3.8.5"
  }
 },
 "nbformat": 4,
 "nbformat_minor": 4
}
